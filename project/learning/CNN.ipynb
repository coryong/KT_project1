{
 "cells": [
  {
   "cell_type": "code",
   "execution_count": 3,
   "metadata": {},
   "outputs": [
    {
     "name": "stdout",
     "output_type": "stream",
     "text": [
      "Epoch 1/10\n",
      "577/577 [==============================] - 1s 801us/step - loss: 0.2109 - accuracy: 0.9359 - val_loss: 0.0394 - val_accuracy: 1.0000\n",
      "Epoch 2/10\n",
      "577/577 [==============================] - 0s 691us/step - loss: 0.0193 - accuracy: 0.9993 - val_loss: 0.0079 - val_accuracy: 1.0000\n",
      "Epoch 3/10\n",
      "577/577 [==============================] - 0s 641us/step - loss: 0.0055 - accuracy: 0.9997 - val_loss: 0.0029 - val_accuracy: 1.0000\n",
      "Epoch 4/10\n",
      "577/577 [==============================] - 0s 613us/step - loss: 0.0026 - accuracy: 0.9998 - val_loss: 0.0014 - val_accuracy: 1.0000\n",
      "Epoch 5/10\n",
      "577/577 [==============================] - 0s 626us/step - loss: 0.0015 - accuracy: 0.9998 - val_loss: 8.0034e-04 - val_accuracy: 1.0000\n",
      "Epoch 6/10\n",
      "577/577 [==============================] - 0s 634us/step - loss: 0.0010 - accuracy: 0.9998 - val_loss: 5.1673e-04 - val_accuracy: 1.0000\n",
      "Epoch 7/10\n",
      "577/577 [==============================] - 0s 633us/step - loss: 7.0128e-04 - accuracy: 0.9999 - val_loss: 3.4953e-04 - val_accuracy: 1.0000\n",
      "Epoch 8/10\n",
      "577/577 [==============================] - 0s 671us/step - loss: 5.0982e-04 - accuracy: 1.0000 - val_loss: 2.1938e-04 - val_accuracy: 1.0000\n",
      "Epoch 9/10\n",
      "577/577 [==============================] - 0s 650us/step - loss: 3.6234e-04 - accuracy: 0.9999 - val_loss: 1.9603e-04 - val_accuracy: 1.0000\n",
      "Epoch 10/10\n",
      "577/577 [==============================] - 0s 657us/step - loss: 2.5503e-04 - accuracy: 1.0000 - val_loss: 1.1783e-04 - val_accuracy: 1.0000\n"
     ]
    }
   ],
   "source": [
    "import pandas as pd\n",
    "import numpy as np\n",
    "import tensorflow as tf\n",
    "from tensorflow.keras import layers\n",
    "from sklearn.model_selection import train_test_split\n",
    "\n",
    "# CSV 파일 읽어오기\n",
    "data = pd.read_csv('CNN_result_0525_learn.csv')\n",
    "\n",
    "# 입력 데이터와 라벨 분리\n",
    "X = data[['x', 'y', 'z']].values\n",
    "y = data['Label'].values\n",
    "\n",
    "# 라벨 매핑\n",
    "label_mapping = {'D': 0, 'L': 1, 'U': 2, 'R': 3, 'F':4}\n",
    "y = np.array([label_mapping[label] for label in y])\n",
    "\n",
    "# 데이터 분할 (학습셋과 테스트셋)\n",
    "train_X, test_X, train_y, test_y = train_test_split(X, y, test_size=0.2, random_state=42)\n",
    "\n",
    "# 모델 구축 및 학습\n",
    "model = tf.keras.Sequential([\n",
    "    layers.Dense(64, activation='relu', input_shape=(3,)),\n",
    "    layers.Dense(5, activation='softmax')\n",
    "])\n",
    "model.compile(optimizer='adam', loss='sparse_categorical_crossentropy', metrics=['accuracy'])\n",
    "model.fit(train_X, train_y, epochs=10, validation_data=(test_X, test_y))\n",
    "\n",
    "model.save('CNN_model_0525.h5')"
   ]
  },
  {
   "cell_type": "code",
   "execution_count": 10,
   "metadata": {},
   "outputs": [
    {
     "name": "stdout",
     "output_type": "stream",
     "text": [
      "Epoch 1/10\n",
      "587/587 [==============================] - 1s 944us/step - loss: 0.0689 - accuracy: 0.9705 - val_loss: 0.0177 - val_accuracy: 0.9966\n",
      "Epoch 2/10\n",
      "587/587 [==============================] - 0s 616us/step - loss: 0.0096 - accuracy: 0.9984 - val_loss: 0.0054 - val_accuracy: 0.9996\n",
      "Epoch 3/10\n",
      "587/587 [==============================] - 0s 612us/step - loss: 0.0036 - accuracy: 0.9997 - val_loss: 0.0025 - val_accuracy: 0.9996\n",
      "Epoch 4/10\n",
      "587/587 [==============================] - 0s 618us/step - loss: 0.0020 - accuracy: 0.9997 - val_loss: 0.0015 - val_accuracy: 0.9996\n",
      "Epoch 5/10\n",
      "587/587 [==============================] - 0s 624us/step - loss: 0.0013 - accuracy: 0.9998 - val_loss: 0.0010 - val_accuracy: 0.9998\n",
      "Epoch 6/10\n",
      "587/587 [==============================] - 0s 629us/step - loss: 8.2531e-04 - accuracy: 0.9999 - val_loss: 7.5014e-04 - val_accuracy: 1.0000\n",
      "Epoch 7/10\n",
      "587/587 [==============================] - 0s 625us/step - loss: 5.9972e-04 - accuracy: 0.9999 - val_loss: 5.0691e-04 - val_accuracy: 1.0000\n",
      "Epoch 8/10\n",
      "587/587 [==============================] - 0s 648us/step - loss: 4.3579e-04 - accuracy: 1.0000 - val_loss: 3.0272e-04 - val_accuracy: 1.0000\n",
      "Epoch 9/10\n",
      "587/587 [==============================] - 0s 629us/step - loss: 3.2844e-04 - accuracy: 1.0000 - val_loss: 2.2146e-04 - val_accuracy: 1.0000\n",
      "Epoch 10/10\n",
      "587/587 [==============================] - 0s 644us/step - loss: 2.3693e-04 - accuracy: 1.0000 - val_loss: 1.6200e-04 - val_accuracy: 1.0000\n"
     ]
    }
   ],
   "source": [
    "import pandas as pd\n",
    "import numpy as np\n",
    "import tensorflow as tf\n",
    "from tensorflow.keras import layers\n",
    "from sklearn.model_selection import train_test_split\n",
    "\n",
    "# CSV 파일 읽어오기\n",
    "data = pd.read_csv('/Users/김태형/Desktop/Final_project/csv/cnn_F_NF/cnn_modified_F_0527.csv')\n",
    "\n",
    "# 입력 데이터와 라벨 분리\n",
    "X = data[['x', 'y', 'z']].values\n",
    "y = data['Label'].values\n",
    "\n",
    "# 라벨 매핑\n",
    "label_mapping = {'F': 0, 'NF': 1}\n",
    "y = np.array([label_mapping[label] for label in y])\n",
    "\n",
    "# 데이터 분할 (학습셋과 테스트셋)\n",
    "train_X, test_X, train_y, test_y = train_test_split(X, y, test_size=0.2, random_state=42)\n",
    "\n",
    "# 모델 구축 및 학습\n",
    "model = tf.keras.Sequential([\n",
    "    layers.Dense(64, activation='relu', input_shape=(3,)),\n",
    "    layers.Dense(2, activation='softmax')\n",
    "])\n",
    "model.compile(optimizer='adam', loss='sparse_categorical_crossentropy', metrics=['accuracy'])\n",
    "model.fit(train_X, train_y, epochs=10, validation_data=(test_X, test_y))\n",
    "\n",
    "model.save('new_cnn_0527.h5')"
   ]
  }
 ],
 "metadata": {
  "kernelspec": {
   "display_name": "Python 3",
   "language": "python",
   "name": "python3"
  },
  "language_info": {
   "codemirror_mode": {
    "name": "ipython",
    "version": 3
   },
   "file_extension": ".py",
   "mimetype": "text/x-python",
   "name": "python",
   "nbconvert_exporter": "python",
   "pygments_lexer": "ipython3",
   "version": "3.10.3"
  },
  "orig_nbformat": 4
 },
 "nbformat": 4,
 "nbformat_minor": 2
}
